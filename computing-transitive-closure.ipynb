{
 "cells": [
  {
   "cell_type": "markdown",
   "metadata": {},
   "source": [
    "# Computing transitive closure on a relations and graphs"
   ]
  },
  {
   "cell_type": "markdown",
   "metadata": {},
   "source": [
    "Review slides https://pages.mtu.edu/~nilufer/classes/cs2311/2012-march/cs2311-s12-ch9-relations-part2.pdf#slide.1\n",
    "This clarifies that transitive closure is something we can compute by thinking of a relation as a graph.\n",
    "It also clarifies that the complete transitive closure is the power of the matrix raised to n (number of elements) because that covers all paths up to length n.\n",
    "\n",
    "A relation can be visualized as a bipartite (two part) graph. \n",
    "In [[https://rpubs.com/pjmurphy/317838][R we can visualize a bipartite graph]] directly with plot function.\n",
    "This builds on [[https://www.rdocumentation.org/packages/igraph/versions/1.2.4.2/topics/graph_from_adjacency_matrix][creating a graph from the adjacency matrix.]]\n",
    "When we have two distinct sets, we need to construct the adjacency matrix that has vertices combined from all the elements of both sets.\n",
    "It's easy to [[https://en.wikipedia.org/wiki/Adjacency_matrix#Of_a_bipartite_graph][construct this adjacency matrix of a bipartite graph]].\n",
    "\n",
    "We can draw these networks in R.\n",
    "[[https://hal.archives-ouvertes.fr/hal-01722543/][It might be easier to use the ggplot2 routines]].  https://hal.archives-ouvertes.fr/hal-01722543/\n",
    "Or, once defined in a standard format, a dedicated tool for network visualization.\n",
    "[[https://medium.com/@Elise_Deux/list-of-free-graph-visualization-applications-9c4ff5c1b3cd][There are many to choose from.]]"
   ]
  },
  {
   "cell_type": "markdown",
   "metadata": {},
   "source": [
    "We learn by discovering relationships between ideas.\n",
    "\n",
    "We can document these connections using the notation of sets and recording the relations between items in those sets.\n",
    "Combining these relations can help us discover new connections between items. Combining relations is call relation composition.\n",
    "\n",
    "We can \"see\" relations by viewing them as a graph.\n",
    "In graph form, relations are treated as networks of connected nodes.\n",
    "The connections between items in the relation are visualized as edges between the nodes in the graph.\n",
    "Graphs allow us to visually explore connected items and discover new relationships by following the edges that make up the paths between nodes.\n",
    "\n",
    "For example, social networks contain many familiar relations like \"friend of\" and can be drawn as a graph where nodes represent people and edges between them represent their friendships.\n",
    "Another network we interact with every day is the World Wide Web.   Relations between web pages are defined by the hyperlinks between pages. The web can be visualized as a network called the web graph.  Here the web pages are nodes and the links between web pages are the edges.\n",
    "\n",
    "We might also have data sets that describe two different relations between items and composing them could help discover secondary relationships.  For example, there are data sets that document drugs which are known to activate specific genes and other data sets that tells us which genes activate other genes. By composing these relations, we can discover drugs which could be investigated to activate genes indirectly through other genes.  This would give us a way to control genes that can't be directly controlled through known drug interactions. \n",
    "\n",
    "Let's summarize these ideas with an example of a relation draw as a graph. It is a simple social network for the \"friends of\" relation between four imaginary people $\\{ a, b, c, d \\}$. We draw it using the [R's igraph library](https://igraph.org/r/doc/) and powerful plotting routines.  The nodes in the graph represent the people and the edges their \"friends of\" relation.  We can visually compose the \"friend of a friend\" transitive relation and discover that $(b,d)$ are members of that relation because $b$ is a \"friend of\" $c$ and $c$ is a \"friend of\" $d$."
   ]
  },
  {
   "cell_type": "code",
   "execution_count": null,
   "metadata": {},
   "outputs": [],
   "source": [
    "library(igraph)\n",
    "options(repr.plot.width=5, repr.plot.height=5)\n",
    "adjm <- matrix(c(0, 0, 1, 0, 1, 0, 1, 0, 0, 1, 0, 0, 0, 0, 1, 0), nc=4,\n",
    "               dimnames=list(c('a', 'b', 'c', 'd'), c('a', 'b', 'c', 'd')))\n",
    "g <- graph_from_adjacency_matrix( adjm, mode=\"undirected\" )\n",
    "plot(g)"
   ]
  },
  {
   "cell_type": "markdown",
   "metadata": {},
   "source": [
    "## Sets and relations\n",
    "\n",
    "Let's review the language of relations and their composition.\n",
    "\n",
    "Let's say we have a set of people $\\{ a, b, c, d \\}$ and know a parent-child relation, $R = \\{(a,b)\\}$,  and two sibling relations, $S=\\{(b,c),(b,d)\\}$, on that set.\n",
    "Given this information, we can compose, or compute, the relation of aunts or uncles between items in the set.\n",
    "That is we can deterime the composed relation $S \\circ R=\\{(a,c),(a,d)\\}$, which tells us that person $a$ is a \"nephew or neice of\" persons $c$ and $d$.\n",
    "Or conversly, that persons $c$ and $d$ are an \"aunt or uncle of\" person $a$.\n",
    "An aunt (or uncle) is a person who is a sibling of a parent.\n",
    "Therefore, if we know $a$ is a \"child of\" $b$, $aRb$, and $b$ is \"sibling of\" $c$ and $d$,  $bSc$ and $bSd$, then the composition of the relation, $R \\circ S$, tells us which people have aunt or uncle relationships.\n",
    "\n",
    "This new, composed relation $S \\circ R$ defines a transitive relation.\n",
    "Transitive means if $a$ is related to $b$ and $b$ is related to $c$ then $a$ is also related to $c$.\n",
    "In other words, the connection between $a$ and $c$ transits across $b$.\n",
    "In graph terms, there is a path between $a$ and $c$ that passes through $b$.\n",
    "\n",
    "Transitive relationships can transit any number of intermediate items.\n",
    "For example, we could have a transitive relationship between $a$ and $d$ because we know relationships where $a$ is related to $b$, $b$ is related to $c$, and $c$ is related to $d$. In a graph, we would call that a path between $a$ and $d$ of length three.\n",
    "\n",
    "Transitivity is a property of some relations. Not all relations are transitive. \n",
    "When a relation is transitive, however, it provides a powerful tool for discovering connections between items.\n",
    "\n",
    "The transitive closure of a set contains all the relationships in a set that result from applying the transitive relation on the set.\n",
    "A closure is just the complete collection of all the relationships in which we are interested.\n",
    "The transitive closure can be computed by following all the connections between the nodes that are defined by the transitive relation, repeatedly applying the relation to the set until all pairs are documented.\n",
    "If we have a relation $R$, we can compute the transitive closure $R^*$, which is a new relation that contains the original relation and the complete collection of transitive relationships of any length between items in the set."
   ]
  },
  {
   "cell_type": "markdown",
   "metadata": {},
   "source": [
    "## Matrix notation for relations\n",
    "\n",
    "Relations can be conveniently represented as a matrix.\n",
    "The $n$ items in the set define the $n$ rows and $n$ columns of an $nxn$ matrix.\n",
    "The relation is represented by putting a one in the matrix entry $i,j$ if there is a relation between element $i$ and $j$ of the set and a zero if there is not.\n",
    "This gives us a binary matrix of $1$'s and $0$'s."
   ]
  },
  {
   "cell_type": "markdown",
   "metadata": {},
   "source": [
    "Let's represent our relations above in matrix form.\n",
    "We'll use the R language in these examples, mainly because it has native support for matrix representations which simplifies this discussion and it has great [plotting support if we want to visualize our networks](https://hal.archives-ouvertes.fr/hal-01722543).\n",
    "\n",
    "Let's define a list to represent the items in our set $\\{a, b, c, d\\}$.  These are names of our people.  Defining them as a list makes it easier to use the names when we we create the matrix. Good labels make data easier to read."
   ]
  },
  {
   "cell_type": "code",
   "execution_count": null,
   "metadata": {},
   "outputs": [],
   "source": [
    "person = c('a','b','c','d')"
   ]
  },
  {
   "cell_type": "markdown",
   "metadata": {},
   "source": [
    "Our first relation $R$ described the \"child of\" relation between $a$ and $b$.  Let's represent this in matrix form as $M_R$\n",
    "\n",
    "[In R we create a matrix with the matrix() function](https://www.tutorialspoint.com/r/r_matrices.htm) and pass it our data, matrix dimensions, and names for the dimensions. We'll use the person names to name the dimensions.  Since we have four items in the set, the matrix will be four rows by four columns and have 16 entries.  The data is represented as a list of zeros and ones, where a one represents a relation between two items in our set.  We will read the entries by row to make the input list a little easier to read for those of us who read matrices in row-major order.  In this example, the second entry in the list will populate the cell in row $a$ and column $b$, meaning $a$ is a \"child of\" $b$."
   ]
  },
  {
   "cell_type": "code",
   "execution_count": null,
   "metadata": {},
   "outputs": [],
   "source": [
    "M_R <- matrix( c(0, 1, 0, 0, 0, 0, 0, 0, 0, 0, 0, 0, 0, 0, 0, 0), nrow=4, byrow=TRUE, dimnames=list(person,person))\n",
    "print(M_R)"
   ]
  },
  {
   "cell_type": "markdown",
   "metadata": {},
   "source": [
    "We'll also create a matrix $M_S$ for our \"sibling of\" relation.  Recall that $b$ is a sibling of $c$ and $d$, which means there are ones in entries $(b,c)$ and $(b,d)$ of the matrix."
   ]
  },
  {
   "cell_type": "code",
   "execution_count": null,
   "metadata": {},
   "outputs": [],
   "source": [
    "M_S <- matrix( c(0, 0, 0, 0, 0, 0, 1, 1, 0, 0, 0, 0, 0, 0, 0, 0), nrow=4, byrow=TRUE, dimnames=list(person,person))\n",
    "print(M_S)"
   ]
  },
  {
   "cell_type": "markdown",
   "metadata": {},
   "source": [
    "## Composing Relations with Matrix Multiplication\n",
    "\n",
    "Composing relations represented as a matrix is simple.\n",
    "[We can use matrix multiplication to compute transitive relations.](http://www.facweb.iitkgp.ac.in/~niloy/COURSE/Autumn2008/DiscreetStructure/scribe/Lecture07CS1039.pdf)\n",
    "If we have two relations $R$ and $S$ over a set of $n$ items, then we an represent each relation in its $nxn$ binary matrix form as $M_R$ and $M_S$.\n",
    "The composition of relation $S \\circ R$ is the multiplication of matrix $M_R$ and matrix $M_S$.  Concisely,  $S \\circ R = M_{(R \\circ S)} = M_R \\odot M_S$.  Binary matrix multiplication, indicated by $\\odot$, is discussed below.\n",
    "\n",
    "This composition gives the transitive relations of length two, i.e. $aRb$ and $bSc$. We can see from the  result of the matrix computation that $a$ is indeed a \"neice or nephew of\" $c$ and $d$ because the entries $(a,c)$ and $(a,d)$ contain a $1$."
   ]
  },
  {
   "cell_type": "code",
   "execution_count": null,
   "metadata": {},
   "outputs": [],
   "source": [
    "M_RS=M_R %*% M_S\n",
    "print(M_RS)"
   ]
  },
  {
   "cell_type": "markdown",
   "metadata": {},
   "source": [
    "## Transitive Closure and Matrix Multiplication\n",
    "\n",
    "More generally, we can compute transitive relations of any length by repeated matrix multiplication.\n",
    "Each multiplication increases the path length by one.\n",
    "\n",
    "This makes sense.\n",
    "If we start with the matrix $M_R$, it contains all the relations of length one.\n",
    "That is, direct relationships between any pair of items in the set.\n",
    "If $R$ contains transitive relations, then we can resolve any missing pairs.\n",
    "If we multiply $M_R * M_R$, we get the transitive relations of length two.\n",
    "If we do it again and multiply $M_R * (M_R * M_R)$ we get the transitive relations of length three.\n",
    "The longest interesting path is at most n-1 steps away.\n",
    "This would be a transitive relation composed by stepping through each item in the set.\n",
    "This means we can compute the transitive closure of a relation $R$ on an $n$-item set by multiplying the $M_R$ matrix by itself $n-1$ times.\n",
    "This is simply the $n^{th}$ power of the matrix.\n",
    "Therefore the transitive closure $R^*$ can be computed as $M_{(R^*)} = (M_R)^n$.\n",
    "\n",
    "Our use of matrix multiplication for relation composition has been ignoring a detail about the summation step in matrix multiplication.\n",
    "We know that $1+1=2$. Using matrix multiplication for relation composition, if there are any rows and columns that both have $1$'s in the same dimension, a transitive relation, the summation will be $2$, $3$, or what ever number of connections exist between the two items.\n",
    "Since we are only interested in the existance of a relation, the only value ever needed in the result is a $1$, the presence of a relation.\n",
    "We can instead use Boolean matrix multiplication, indicated by $\\odot$, to achieve that outcome.\n",
    "In Boolean math we use logical AND for multiplication and logic OR for addition.\n",
    "Here $1 x 1$ is still $1$ and $1 x 0$ is still $0$.\n",
    "Boolean multiplication retains the relation filtering function.\n",
    "But now, $1 + 1 = 1$.\n",
    "Boolean addition records the existance of a relation without being concerned about the degree of connectivity.\n",
    "\n",
    "We can substitute ordinary matrix multiplication for Boolean matrix operation by simply normalizing all non-zero elements in the final result to $1$. This makes sure the final values remain $1$ and $0$.\n",
    "\n",
    "## The Adjacency Matrix and Graphs\n",
    "\n",
    "There's another perspective on the relation-as-a-matrix representation that makes the transitive closure extremely useful to a broad set of applications.\n",
    "We can represent a graph of n verticies as an nxn adjacency matrix.\n",
    "The adjacency matrix is a matrix with values of 1 for vertices i,j that have an edge connecting them in the graph and values of 0 when there is no edge.\n",
    "A binary matrix that maps elements of a set according to some relation is identical to an adjacency matrix for a graph.\n",
    "This means we can represent interesting graphs like social networks or maps of the web as adjacency matrix.\n",
    "We can then compute the transitive closure of these relations and find all nodes that are connected to each other either directly or through intermediate nodes.\n",
    "Limiting the path length, for example to two, would make easy work of determining who is connected by a friend-of-friends relation.\n",
    "This is a powerful tool for communitity detection in graphs.\n",
    "\n",
    "## Compute Considerations for Matrix Multiplication\n",
    "\n",
    "So, is it practical to just multiply the matrices together to compute the transitive closure?\n",
    "Whenever we do work on a computer we should be interested in, meaning concerned about, the amount of time it takes to do that work.\n",
    "If our data sizes are small, then we might get away with a naive approach for computing transitive closure.\n",
    "By naive we mean a brute force computation that does all the multiplication and addition steps you'd expect to do for matrix multiplication.\n",
    "Multiplying two nxn matrices means n^3 operations, so the naive approach is bounded by O(n^3).\n",
    "But since we have to do n of these matrix multiplications, that really works out to O(n^4).\n",
    "\n",
    "Deciding of our data is too big depends on that computation decision.\n",
    "If we have 100 elements in our set, then a naive computation of transitive closure would be 100^4 or 100million operations.\n",
    "Probably not impossible to wait for, but it increases exponentially for every factor of 10 increase in our set of elements.\n",
    "Data becomes big pretty quickly at that rate.\n",
    "A one-thousand node network would take 1000 times longer than the 100million operations that it took for our 100 element set.\n",
    "This could quickly start to feel like waiting or, worse, limit the amount of information we are able to consider.\n",
    "\n",
    "With social networks or the web graph we easily imagine thousands, millions or even billions of nodes in our network.\n",
    "Even if we are only interested in nodes connected by one or two intermediate nodes we are still bounded by O(n^3).\n",
    "The naive approach quickly becomes unmanagable at the scale of thousands of nodes.\n",
    "\n",
    "In 1969 Strassen introduced the idea of fast matrix multiplication and was able to demonstrate performance bounded by O(n^(2.8)).\n",
    "These methods have been improved and the state of the art for fast matrix multiply is now about O(n^(2.373)).\n",
    "Keeping in mind that if we want the transitive closure we need still need to do this n times, bumping us above O(n^3).\n",
    "\n",
    "Are there faster methods?\n",
    "The well-known Floyd-Warshall algorithm for computing the shortest path between all pairs of nodes in a weighted graph can be applied to this problem.\n",
    "It runs in O(n^3), for n-node networks.\n",
    "We don't really care about weights for transitive closure, but finding the cheapest path is a nice feature to have in real world networks.\n",
    "Floyd-Warshall does this using a dynamic program technique to keep the computational bound at O(n^3).\n",
    "It inspects paths of increasing length between each node and keeps track of the shortest one.\n",
    "Inspecting each of the n^2 node pairs in the graph n times keeps it bound at at O(n^3).\n",
    "Because it finds the shortest path between all pairs, we end up with a complete set of paths across the graph at the end of the compution.\n",
    "That is we have the transitive closure in O(n^3) operations.\n",
    "\n",
    "Let's revisit the earlier observation that we are working with binary matrices we can therefore use binary matrix multiplication.\n",
    "We replace the element-wise multiplication by Boolean AND operations and sum by OR operations.\n",
    "This means the value for a cell in the result matrix will be 1 if there is a 1 in any of the matching i,j and j,i cells.\n",
    "The Boolean OR operations means the result will be 1 if any one of these cell-level operations for the row and column multiplication is one.\n",
    "\n",
    "We can rewrite our left-side matrix of the multiplication as set of rows that just records the postion of the ones in that row.\n",
    "We then step through each element of these these i rows and inspect the corresponding element for its position k in the right side matrix in cell k,j.\n",
    "If the we find a 1 in that position then we know there is a path and set the value of the resulting cell to 1.\n",
    "We can then move on to the next row.\n",
    "The expected time for most matrices is O(n^2).\n",
    "There are worst case peformance of O(n^3) but that's not any worse than the solutions above.\n",
    "\n",
    "This gives use an O(n^2) algorithm for computing paths between nodes.\n",
    "This means we can compute a 1-million node network in same time it took us for computing a 1000 node network with our naive approach above.\n",
    "That's a huge increase in the size of networks we can explore.\n",
    "There's a log of value in thinking about perfomance when working with computers."
   ]
  }
 ],
 "metadata": {
  "language_info": {
   "name": "python",
   "pygments_lexer": "ipython3"
  }
 },
 "nbformat": 4,
 "nbformat_minor": 2
}
