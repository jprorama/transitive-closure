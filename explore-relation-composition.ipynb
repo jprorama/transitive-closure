{
 "cells": [
  {
   "cell_type": "code",
   "execution_count": null,
   "metadata": {},
   "outputs": [],
   "source": [
    "library(igraph)"
   ]
  },
  {
   "cell_type": "markdown",
   "metadata": {},
   "source": [
    "First example from [igraph graph_from_adjacency_matrix() documentation](http://search.r-project.org/library/igraph/html/graph_from_adjacency_matrix.html)"
   ]
  },
  {
   "cell_type": "code",
   "execution_count": null,
   "metadata": {},
   "outputs": [],
   "source": [
    "adjm <- matrix(sample(0:1, 100, replace=TRUE, prob=c(0.9,0.1)), nc=10)\n",
    "g1 <- graph_from_adjacency_matrix( adjm )\n",
    "plot(g1)"
   ]
  },
  {
   "cell_type": "markdown",
   "metadata": {},
   "source": [
    "Explore bipartite adjacency construction using igraph.  Follows model of example https://rpubs.com/pjmurphy/317838"
   ]
  },
  {
   "cell_type": "markdown",
   "metadata": {},
   "source": [
    "Create a random relation R that maps set A={1,2,3} to set B={1,2,3,4}.  This is easily done using a 3x4 matrix with the three rows representing the elements of set A and the four columns representing the elements of set B. The matrix is randomly populated with ones to represent the mapping between the elements of both sets.\n",
    "\n",
    "(A side note: Don't be confused by the use of similar numbers as elements in both sets.  The numbers only represent distinct set elements and don't carry of any of their common numeric meaning.  The one in set A does not equal the one in set B.  Only the relation defines connections between elements of the sets.)"
   ]
  },
  {
   "cell_type": "code",
   "execution_count": null,
   "metadata": {},
   "outputs": [],
   "source": [
    "R <- matrix(sample(0:1, 12, replace=TRUE, prob=c(0.3,0.7)), nc=4)\n",
    "R"
   ]
  },
  {
   "cell_type": "markdown",
   "metadata": {},
   "source": [
    "A relation implicitly describes a [bipartite graph](https://en.wikipedia.org/wiki/Bipartite_graph). The relation maps a distinct set of elements in A to a distinct set of elements in B and there are no intra-set relations of elements. In graph form, the elements of both sets A and B are treated as vertices, or nodes, in the graph.  The relation R is represented as the edges connecting those nodes.\n",
    "\n",
    "A graph can be conveniently represented as an adjacency matrix. Adjacency matricies are square.  The rows and columns represent the full set of vertices in the graph and the cell values describe the edges between them.\n",
    "\n",
    "Representing a relation as a graph means treating the combined elements of sets A and B as the vertices of the graph.  In the above relation the three elements of set A and four elements of set B combine to create seven graph verticies. This results in a 7x7 matrix with cells populated based on the edges connecting the vertices.\n",
    "\n",
    "Because all the vertices are repeated in both the rows and columns (the matrix is square), the adjacency matrix can describe a directed graph, where the edges have a direction and point from one vertex to another.  That is, a one in the cell 3,4 means there is an edge from vertex three to vertex four.  If there is also a one in cell 4,3 then there is an edge pointing back from vertex four to vertex three (the matrix is symetric).\n",
    "\n",
    "In order to visualize our relation as a graph we need to turn it into an adjacency matrix.  Because the [relation implicitly decribes a bipartite graph, it is easy to convert the relation to an adjaceny matrix](https://en.wikipedia.org/wiki/Adjacency_matrix#Of_a_bipartite_graph).\\\n",
    "\n",
    "![](https://wikimedia.org/api/rest_v1/media/math/render/svg/153a4f46f7639209d3d477aa715558c879b00319)\n",
    "\n",
    "\n",
    "In our example above, the 7x7 adjaceny matrix has three rows and columns that represent elements of set A and four rows an columns that represent the elements of set B.  Both of these square 3x3 and 4x4 submatrices in the upper left and lower right are zero because there are no intra-set connections.  The 3x4 submatrix in the upper right quadrant, the position of \"B\" in this equation, directly contains our example relation R. (The \"B\" in this equation stands for \"Biadjacency martrix\" and is unrelated to name of our set \"B\" above).  The ramaining 4x3 submatrix in the lower left quadrent is simply the transpose of relation.  This makes our adjaceny matrix symetric and implies the edges bidirectional, or if we don't care about direction, undirected.\n",
    "\n",
    "Convert the relation to an adjaceny matrix.  "
   ]
  },
  {
   "cell_type": "code",
   "execution_count": null,
   "metadata": {},
   "outputs": [],
   "source": [
    "t(R)"
   ]
  },
  {
   "cell_type": "code",
   "execution_count": null,
   "metadata": {},
   "outputs": [],
   "source": [
    "z1 <- matrix(c(0), nr=3, nc=3 )\n",
    "z1"
   ]
  },
  {
   "cell_type": "code",
   "execution_count": null,
   "metadata": {},
   "outputs": [],
   "source": [
    "cbind(z1, R)"
   ]
  },
  {
   "cell_type": "code",
   "execution_count": null,
   "metadata": {},
   "outputs": [],
   "source": [
    "cbind(t(R), matrix(c(0), nr=4, nc=4))"
   ]
  },
  {
   "cell_type": "code",
   "execution_count": null,
   "metadata": {},
   "outputs": [],
   "source": [
    "rbind(cbind(z1, R), cbind(t(R), matrix(c(0), nr=4, nc=4)))"
   ]
  },
  {
   "cell_type": "code",
   "execution_count": null,
   "metadata": {},
   "outputs": [],
   "source": [
    "bipartite_adjm <- rbind(cbind(z1, R), cbind(t(R), matrix(c(0), nr=4, nc=4)))"
   ]
  },
  {
   "cell_type": "code",
   "execution_count": null,
   "metadata": {},
   "outputs": [],
   "source": [
    "bipartite_adjm_directed <- rbind(cbind(z1, R), cbind(matrix(c(0), nr=4, nc=3), matrix(c(0), nr=4, nc=4)))"
   ]
  },
  {
   "cell_type": "code",
   "execution_count": null,
   "metadata": {},
   "outputs": [],
   "source": [
    "g <- graph_from_adjacency_matrix( bipartite_adjm, mode=\"undirected\" )"
   ]
  },
  {
   "cell_type": "code",
   "execution_count": null,
   "metadata": {},
   "outputs": [],
   "source": [
    "gd <- graph_from_adjacency_matrix( bipartite_adjm_directed, mode=\"directed\" )"
   ]
  },
  {
   "cell_type": "code",
   "execution_count": null,
   "metadata": {},
   "outputs": [],
   "source": [
    "bipartite.mapping(g)"
   ]
  },
  {
   "cell_type": "code",
   "execution_count": null,
   "metadata": {},
   "outputs": [],
   "source": [
    "names(g)"
   ]
  },
  {
   "cell_type": "code",
   "execution_count": null,
   "metadata": {},
   "outputs": [],
   "source": [
    "rep(2, length(V(g)$name))"
   ]
  },
  {
   "cell_type": "code",
   "execution_count": null,
   "metadata": {},
   "outputs": [],
   "source": [
    "length(V(g)$name)"
   ]
  },
  {
   "cell_type": "code",
   "execution_count": null,
   "metadata": {},
   "outputs": [],
   "source": [
    "V(g)"
   ]
  },
  {
   "cell_type": "code",
   "execution_count": null,
   "metadata": {},
   "outputs": [],
   "source": [
    "E(g)"
   ]
  },
  {
   "cell_type": "code",
   "execution_count": null,
   "metadata": {},
   "outputs": [],
   "source": [
    "plot(g)"
   ]
  },
  {
   "cell_type": "code",
   "execution_count": null,
   "metadata": {},
   "outputs": [],
   "source": [
    "plot(gd)"
   ]
  },
  {
   "cell_type": "code",
   "execution_count": null,
   "metadata": {},
   "outputs": [],
   "source": [
    "gd"
   ]
  },
  {
   "cell_type": "code",
   "execution_count": null,
   "metadata": {},
   "outputs": [],
   "source": [
    "names(gd)"
   ]
  },
  {
   "cell_type": "code",
   "execution_count": null,
   "metadata": {},
   "outputs": [],
   "source": [
    "S <- matrix(sample(0:1, 16, replace=TRUE, prob=c(0.6,0.4)), nc=4)\n",
    "S"
   ]
  },
  {
   "cell_type": "code",
   "execution_count": null,
   "metadata": {},
   "outputs": [],
   "source": [
    "R %*% S"
   ]
  },
  {
   "cell_type": "code",
   "execution_count": null,
   "metadata": {},
   "outputs": [],
   "source": [
    "V(g)$type <- bipartite_mapping(g)$type"
   ]
  },
  {
   "cell_type": "code",
   "execution_count": null,
   "metadata": {},
   "outputs": [],
   "source": [
    "plot(g, vertex.label.cex = 0.8, vertex.label.color = \"black\")"
   ]
  },
  {
   "cell_type": "code",
   "execution_count": null,
   "metadata": {},
   "outputs": [],
   "source": [
    "V(g)$color <- ifelse(V(g)$type, \"lightblue\", \"salmon\")\n",
    "V(g)$shape <- ifelse(V(g)$type, \"circle\", \"square\")\n",
    "E(g)$color <- \"lightgray\"\n",
    "  \n",
    "plot(g, vertex.label.cex = 0.8, vertex.label.color = \"black\")"
   ]
  },
  {
   "cell_type": "code",
   "execution_count": null,
   "metadata": {},
   "outputs": [],
   "source": [
    "V(g)$label.color <- \"black\" ##ifelse(V(g)$type, \"black\", \"white\")\n",
    "## V(g)$label.font <-  2\n",
    "V(g)$label.cex <- 1 ##ifelse(V(g)$type, 0.8, 1.2)\n",
    "## V(g)$label.dist <-0\n",
    "V(g)$frame.color <-  \"gray\"\n",
    "V(g)$size <- 18\n",
    "\n",
    "plot(g, layout = layout_with_graphopt)"
   ]
  },
  {
   "cell_type": "code",
   "execution_count": null,
   "metadata": {},
   "outputs": [],
   "source": [
    "plot(g, layout=layout.bipartite, vertex.size=7, vertex.label.cex=0.6)"
   ]
  },
  {
   "cell_type": "code",
   "execution_count": null,
   "metadata": {},
   "outputs": [],
   "source": [
    "S"
   ]
  },
  {
   "cell_type": "code",
   "execution_count": null,
   "metadata": {},
   "outputs": [],
   "source": [
    "s = graph_from_adjacency_matrix( S, mode=\"undirected\" )"
   ]
  },
  {
   "cell_type": "code",
   "execution_count": null,
   "metadata": {},
   "outputs": [],
   "source": [
    "plot(s)"
   ]
  }
 ],
 "metadata": {
  "language_info": {
   "name": "python",
   "pygments_lexer": "ipython3"
  }
 },
 "nbformat": 4,
 "nbformat_minor": 2
}
